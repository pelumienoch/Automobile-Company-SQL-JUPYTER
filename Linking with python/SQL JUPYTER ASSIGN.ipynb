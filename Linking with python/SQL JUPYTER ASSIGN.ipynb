{
 "cells": [
  {
   "cell_type": "code",
   "execution_count": null,
   "metadata": {},
   "outputs": [],
   "source": [
    "### We need to install these libraries\n",
    "\n",
    "! pip install mysql-connector-python\n",
    "! pip install pandas"
   ]
  },
  {
   "cell_type": "code",
   "execution_count": null,
   "metadata": {},
   "outputs": [],
   "source": [
    "### We import these libraries\n",
    "\n",
    "import mysql.connector as connection\n",
    "import pandas as pd"
   ]
  },
  {
   "cell_type": "code",
   "execution_count": null,
   "metadata": {},
   "outputs": [],
   "source": [
    "### We connect to the MySql and database\n",
    "try:\n",
    "    mydb = connection.connect(host = \"localhost\",user= \"root\", passwd= \"/Tatung7358\", use_pure= True)\n",
    "    # check if the connection is established\n",
    "\n",
    "    query = \"USE automobile\"\n",
    "\n",
    "    cursor = mydb.cursor() # create a cursor to execute queries\n",
    "    cursor.execute(query)\n",
    "    print(cursor.fetchall())\n",
    "\n",
    "except Exception as e:       #### This will close our database and return an error\n",
    "    mydb.close()\n",
    "    print(str(e))"
   ]
  },
  {
   "cell_type": "code",
   "execution_count": null,
   "metadata": {},
   "outputs": [],
   "source": [
    "## we want to use the select from cars query to test if our database has properly connected\n",
    "cursor.execute(\"SELECT * FROM Cars\")\n",
    "\n",
    "output = cursor.fetchall() \n",
    "\n",
    "for x in output:\n",
    "    print(x)"
   ]
  },
  {
   "cell_type": "code",
   "execution_count": null,
   "metadata": {},
   "outputs": [],
   "source": [
    "### We want to present the table in a panda dataframe\n",
    "query = \"SELECT * FROM Cars\"\n",
    "\n",
    "cars_data = pd.read_sql(query, mydb)\n",
    "cars_data"
   ]
  },
  {
   "cell_type": "code",
   "execution_count": null,
   "metadata": {},
   "outputs": [],
   "source": [
    "### exploring the cars table\n",
    "\n",
    "cars_data.head"
   ]
  },
  {
   "cell_type": "code",
   "execution_count": null,
   "metadata": {},
   "outputs": [],
   "source": [
    "# Business problem 1:\n",
    "\n",
    "# inserting a new service booking into the service table from a car that has been serviced previously \n",
    "\n",
    "insert_query = \"INSERT INTO services VALUES ('S2006-138', '2020-06-20', '10:00:00', 'Oil change and filter replacement', 10421, '2021-06-20', 'STR 9378')\"\n",
    "cursor.execute(insert_query)\n",
    "##connection.commit()\n",
    "print (\"service booking data is inserted\")\n",
    "\n"
   ]
  },
  {
   "cell_type": "code",
   "execution_count": null,
   "metadata": {},
   "outputs": [],
   "source": [
    "### Business problem 1 result\n",
    "## To view the newly added service booking in the dataframe\n",
    "query = \"SELECT * FROM services\"\n",
    "\n",
    "services_data = pd.read_sql(query, mydb)\n",
    "\n",
    "services_data"
   ]
  },
  {
   "cell_type": "code",
   "execution_count": null,
   "metadata": {},
   "outputs": [],
   "source": [
    "# Business Problem 2:\n",
    "# retrieveing data from service booking\n",
    "retrieve_query = \"\"\"SELECT M.name, COUNT(SM.service_id) AS JobsOnDropOffDay\n",
    "FROM mechanics M \n",
    "JOIN service_mechanics SM ON M.employee_id = SM.employee_id\n",
    "JOIN services S ON SM.service_id = S.service_id\n",
    "WHERE S.registration_no = 'SEZ 5629'\n",
    "  AND S.drop_off_date = '2020-06-20'\n",
    "  GROUP BY M.name\n",
    "HAVING COUNT(SM.service_id) > 0;\"\"\"\n",
    "cursor.execute(retrieve_query)\n",
    "results = cursor.fetchall()\n",
    "columns = cursor.column_names\n",
    "#print(\"\"\"service booking:\"\"\")\n",
    "#print(columns)\n",
    "#for result in results:\n",
    "#    print(result)\n",
    "\n",
    "business_prob2 = pd.read_sql(retrieve_query, mydb)\n",
    "business_prob2"
   ]
  },
  {
   "cell_type": "code",
   "execution_count": null,
   "metadata": {},
   "outputs": [],
   "source": [
    "# Business Problem 3:\n",
    "# the total service time per mechanic within a period of 24hrs time\n",
    "retrieve_query = \"\"\"SELECT M.name,  SEC_TO_TIME(SUM(TIME_TO_SEC(SM.time_spent))) AS TotalTimeSpent\n",
    "FROM mechanics M \n",
    "JOIN service_mechanics SM ON M.employee_id = SM.employee_id\n",
    "JOIN services S ON SM.service_id = S.service_id\n",
    "WHERE S.drop_off_date BETWEEN '2020-06-18' AND '2020-06-19'\n",
    "GROUP BY M.name;\"\"\"\n",
    "cursor.execute(retrieve_query)\n",
    "results = cursor.fetchall()\n",
    "columns = cursor.column_names\n",
    "print(\"\"\"The total service time per mechanic within a period of 24hrs time\"\"\")\n",
    "print(columns)\n",
    "for result in results:\n",
    "    print(result)\n",
    "\n",
    "business_prob3 = pd.read_sql(retrieve_query, mydb)\n",
    "business_prob3"
   ]
  },
  {
   "cell_type": "code",
   "execution_count": null,
   "metadata": {},
   "outputs": [],
   "source": [
    "## Business problem 4: \n",
    "## Listing the name and email address of customers who own a car where the date of next service falls between two given dates\n",
    "retrieve_query = \"\"\"SELECT C.name AS customername, C.email_address AS CustomerEmail, Cars.Make, Cars.registration_no, S.next_service_date\n",
    "FROM customers C\n",
    "JOIN cars ON C.customer_id = cars.customer_id\n",
    "JOIN services S ON cars.registration_no = S.registration_no\n",
    "WHERE S.next_service_Date BETWEEN '2021-06-18' AND '2021-06-23';\"\"\"\n",
    "cursor.execute(retrieve_query)\n",
    "results = cursor.fetchall()\n",
    "columns = cursor.column_names\n",
    "print(\"\"\"Listing the name and email address of customers who own a car where the date of next service falls between two given dates\"\"\")\n",
    "print(columns)\n",
    "for result in results:\n",
    "    print(result)\n",
    "\n",
    "business_prob4 = pd.read_sql(retrieve_query, mydb)\n",
    "business_prob4"
   ]
  },
  {
   "cell_type": "code",
   "execution_count": null,
   "metadata": {},
   "outputs": [],
   "source": [
    "## - Business problem 5: Making a mechanic unavailable, then getting the services they may be involved with during those days of unavailability\n",
    "##  First, I need to  alter the table by adding a column on the availabilty status\n",
    "\n",
    "alter_mechanics = \"\"\"ALTER TABLE Mechanics\n",
    "ADD COLUMN status VARCHAR(50) DEFAULT 'Available';\"\"\"\n",
    "\n",
    "#### lets see the changes on the mechanic table\n",
    "select_query = \"SELECT * FROM mechanics\"\n",
    "mechanics_data = pd.read_sql (select_query, mydb)\n",
    "\n",
    "## then, i want to change the status of a mechanic to unavailable, i will use Alan Turing with the ID no E2648 \n",
    "update_alan = \"\"\"UPDATE mechanics\n",
    "SET Status = 'Unavailable'\n",
    "WHERE employee_id = 'E2648';\"\"\"\n",
    "cursor.execute(update_alan)\n",
    "print(\"Alan availability is changed\")\n",
    "\n",
    "mechanics_data"
   ]
  },
  {
   "cell_type": "code",
   "execution_count": null,
   "metadata": {},
   "outputs": [],
   "source": [
    "## Business prob 5:\n",
    "# getting a list of any services Alan may be involved in on the days he is unavailable\n",
    "\n",
    "retrieve_query = \"\"\"SELECT S.service_id, S.drop_off_date, S.drop_off_time, S.description, S.registration_no\n",
    "FROM services S\n",
    "JOIN service_mechanics SM ON S.service_id = SM.service_id\n",
    "JOIN mechanics M ON SM.employee_id = M.employee_id\n",
    "WHERE M.Status = 'Unavailable'\n",
    "  AND S.drop_off_date BETWEEN '2020-06-18' AND '2020-06-23';\"\"\"\n",
    "\n",
    "##cursor.execute(retrieve_query)\n",
    "##results = cursor.fetchall()\n",
    "##columns = cursor.column_names\n",
    "##print(\"\"\"getting a list of any services Alan may be involved in on the days he is unavailable\"\"\")\n",
    "##print(columns)\n",
    "##for result in results:\n",
    "##    print(result)\n",
    "\n",
    "business_prob5 = pd.read_sql(retrieve_query, mydb)\n",
    "business_prob5"
   ]
  },
  {
   "cell_type": "code",
   "execution_count": null,
   "metadata": {},
   "outputs": [],
   "source": [
    "mydb.close()"
   ]
  }
 ],
 "metadata": {
  "language_info": {
   "name": "python"
  }
 },
 "nbformat": 4,
 "nbformat_minor": 2
}
